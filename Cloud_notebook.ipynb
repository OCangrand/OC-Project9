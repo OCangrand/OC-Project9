{
 "cells": [
  {
   "cell_type": "markdown",
   "id": "de285467-f8d7-4b63-ba89-68e12c552d57",
   "metadata": {},
   "source": [
    "# Modélisation"
   ]
  },
  {
   "cell_type": "markdown",
   "id": "4e759c1e",
   "metadata": {},
   "source": [
    "## Démarrage de la session Spark"
   ]
  },
  {
   "cell_type": "code",
   "execution_count": 1,
   "id": "e5f0fbe1",
   "metadata": {},
   "outputs": [
    {
     "name": "stdout",
     "output_type": "stream",
     "text": [
      "Starting Spark application\n"
     ]
    },
    {
     "data": {
      "text/html": [
       "<table>\n",
       "<tr><th>ID</th><th>YARN Application ID</th><th>Kind</th><th>State</th><th>Spark UI</th><th>Driver log</th><th>User</th><th>Current session?</th></tr><tr><td>0</td><td>application_1712058004734_0001</td><td>pyspark</td><td>idle</td><td><a target=\"_blank\" href=\"http://ip-172-31-21-74.eu-west-1.compute.internal:20888/proxy/application_1712058004734_0001/\">Link</a></td><td><a target=\"_blank\" href=\"http://ip-172-31-17-229.eu-west-1.compute.internal:8042/node/containerlogs/container_1712058004734_0001_01_000001/livy\">Link</a></td><td>None</td><td>✔</td></tr></table>"
      ],
      "text/plain": [
       "<IPython.core.display.HTML object>"
      ]
     },
     "metadata": {},
     "output_type": "display_data"
    },
    {
     "data": {
      "application/vnd.jupyter.widget-view+json": {
       "model_id": "",
       "version_major": 2,
       "version_minor": 0
      },
      "text/plain": [
       "FloatProgress(value=0.0, bar_style='info', description='Progress:', layout=Layout(height='25px', width='50%'),…"
      ]
     },
     "metadata": {},
     "output_type": "display_data"
    },
    {
     "name": "stdout",
     "output_type": "stream",
     "text": [
      "SparkSession available as 'spark'.\n"
     ]
    },
    {
     "data": {
      "application/vnd.jupyter.widget-view+json": {
       "model_id": "",
       "version_major": 2,
       "version_minor": 0
      },
      "text/plain": [
       "FloatProgress(value=0.0, bar_style='info', description='Progress:', layout=Layout(height='25px', width='50%'),…"
      ]
     },
     "metadata": {},
     "output_type": "display_data"
    }
   ],
   "source": [
    "# L'exécution de cette cellule démarre l'application Spark"
   ]
  },
  {
   "cell_type": "markdown",
   "id": "3aba202f",
   "metadata": {},
   "source": [
    "<u>Affichage des informations sur la session en cours et liens vers Spark UI</u> :"
   ]
  },
  {
   "cell_type": "code",
   "execution_count": 2,
   "id": "fb788991",
   "metadata": {},
   "outputs": [
    {
     "data": {
      "text/html": [
       "Current session configs: <tt>{'driverMemory': '1000M', 'executorCores': 2, 'proxyUser': 'jovyan', 'kind': 'pyspark'}</tt><br>"
      ],
      "text/plain": [
       "<IPython.core.display.HTML object>"
      ]
     },
     "metadata": {},
     "output_type": "display_data"
    },
    {
     "data": {
      "text/html": [
       "<table>\n",
       "<tr><th>ID</th><th>YARN Application ID</th><th>Kind</th><th>State</th><th>Spark UI</th><th>Driver log</th><th>User</th><th>Current session?</th></tr><tr><td>0</td><td>application_1712058004734_0001</td><td>pyspark</td><td>idle</td><td><a target=\"_blank\" href=\"http://ip-172-31-21-74.eu-west-1.compute.internal:20888/proxy/application_1712058004734_0001/\">Link</a></td><td><a target=\"_blank\" href=\"http://ip-172-31-17-229.eu-west-1.compute.internal:8042/node/containerlogs/container_1712058004734_0001_01_000001/livy\">Link</a></td><td>None</td><td>✔</td></tr></table>"
      ],
      "text/plain": [
       "<IPython.core.display.HTML object>"
      ]
     },
     "metadata": {},
     "output_type": "display_data"
    }
   ],
   "source": [
    "%%info"
   ]
  },
  {
   "cell_type": "markdown",
   "id": "27ac9832",
   "metadata": {},
   "source": [
    "## Installation des packages\n",
    "\n",
    "Les packages nécessaires ont été installé via l'étape de **bootstrap** à l'instanciation du serveur.\n",
    "\n",
    "## Import des librairies"
   ]
  },
  {
   "cell_type": "code",
   "execution_count": 4,
   "id": "ad562eab",
   "metadata": {},
   "outputs": [
    {
     "data": {
      "application/vnd.jupyter.widget-view+json": {
       "model_id": "",
       "version_major": 2,
       "version_minor": 0
      },
      "text/plain": [
       "FloatProgress(value=0.0, bar_style='info', description='Progress:', layout=Layout(height='25px', width='50%'),…"
      ]
     },
     "metadata": {},
     "output_type": "display_data"
    }
   ],
   "source": [
    "import pandas as pd\n",
    "import numpy as np\n",
    "import io\n",
    "import os\n",
    "import tensorflow as tf\n",
    "from PIL import Image\n",
    "from keras.applications.mobilenet_v2 import MobileNetV2, preprocess_input\n",
    "from keras.preprocessing.image import img_to_array\n",
    "from keras import Model\n",
    "from pyspark.sql.functions import col, pandas_udf, PandasUDFType, element_at, split"
   ]
  },
  {
   "cell_type": "markdown",
   "id": "83663cbd",
   "metadata": {},
   "source": [
    "## Définition des PATH pour charger les images et enregistrer les résultats\n",
    "\n",
    "Nous accédons directement à nos **données sur S3** comme si elles étaient **stockées localement**."
   ]
  },
  {
   "cell_type": "code",
   "execution_count": 5,
   "id": "46be859d",
   "metadata": {},
   "outputs": [
    {
     "data": {
      "application/vnd.jupyter.widget-view+json": {
       "model_id": "",
       "version_major": 2,
       "version_minor": 0
      },
      "text/plain": [
       "FloatProgress(value=0.0, bar_style='info', description='Progress:', layout=Layout(height='25px', width='50%'),…"
      ]
     },
     "metadata": {},
     "output_type": "display_data"
    },
    {
     "name": "stdout",
     "output_type": "stream",
     "text": [
      "PATH:        s3://ocangrand-p9-data\n",
      "PATH_Data:   s3://ocangrand-p9-data/Test\n",
      "PATH_Result: s3://ocangrand-p9-data/Results"
     ]
    }
   ],
   "source": [
    "PATH = 's3://ocangrand-p9-data'\n",
    "PATH_Data = PATH+'/Test'\n",
    "PATH_Result = PATH+'/Results'\n",
    "print('PATH:        '+\\\n",
    "      PATH+'\\nPATH_Data:   '+\\\n",
    "      PATH_Data+'\\nPATH_Result: '+PATH_Result)"
   ]
  },
  {
   "cell_type": "markdown",
   "id": "cf883c20",
   "metadata": {},
   "source": [
    "## Traitement des données"
   ]
  },
  {
   "cell_type": "markdown",
   "id": "2ffe93f5",
   "metadata": {},
   "source": [
    "### Chargement des données"
   ]
  },
  {
   "cell_type": "code",
   "execution_count": 6,
   "id": "7e4b319a",
   "metadata": {},
   "outputs": [
    {
     "data": {
      "application/vnd.jupyter.widget-view+json": {
       "model_id": "",
       "version_major": 2,
       "version_minor": 0
      },
      "text/plain": [
       "FloatProgress(value=0.0, bar_style='info', description='Progress:', layout=Layout(height='25px', width='50%'),…"
      ]
     },
     "metadata": {},
     "output_type": "display_data"
    }
   ],
   "source": [
    "images = spark.read.format(\"binaryFile\") \\\n",
    "  .option(\"pathGlobFilter\", \"*.jpg\") \\\n",
    "  .option(\"recursiveFileLookup\", \"true\") \\\n",
    "  .load(PATH_Data)"
   ]
  },
  {
   "cell_type": "code",
   "execution_count": 7,
   "id": "16bfeb4d",
   "metadata": {},
   "outputs": [
    {
     "data": {
      "application/vnd.jupyter.widget-view+json": {
       "model_id": "",
       "version_major": 2,
       "version_minor": 0
      },
      "text/plain": [
       "FloatProgress(value=0.0, bar_style='info', description='Progress:', layout=Layout(height='25px', width='50%'),…"
      ]
     },
     "metadata": {},
     "output_type": "display_data"
    },
    {
     "name": "stdout",
     "output_type": "stream",
     "text": [
      "+--------------------+-------------------+------+--------------------+\n",
      "|                path|   modificationTime|length|             content|\n",
      "+--------------------+-------------------+------+--------------------+\n",
      "|s3://ocangrand-p9...|2024-03-28 13:57:47|  7353|[FF D8 FF E0 00 1...|\n",
      "|s3://ocangrand-p9...|2024-03-28 13:57:47|  7350|[FF D8 FF E0 00 1...|\n",
      "|s3://ocangrand-p9...|2024-03-28 13:57:47|  7349|[FF D8 FF E0 00 1...|\n",
      "|s3://ocangrand-p9...|2024-03-28 13:57:47|  7348|[FF D8 FF E0 00 1...|\n",
      "|s3://ocangrand-p9...|2024-03-28 13:57:48|  7328|[FF D8 FF E0 00 1...|\n",
      "+--------------------+-------------------+------+--------------------+\n",
      "only showing top 5 rows"
     ]
    }
   ],
   "source": [
    "images.show(5)"
   ]
  },
  {
   "cell_type": "markdown",
   "id": "8b32ac34",
   "metadata": {},
   "source": [
    "<u>Je ne conserve que le **path** de l'image et j'ajoute <br />\n",
    "    une colonne contenant les **labels** de chaque image</u> :"
   ]
  },
  {
   "cell_type": "code",
   "execution_count": 8,
   "id": "a52ab808",
   "metadata": {},
   "outputs": [
    {
     "data": {
      "application/vnd.jupyter.widget-view+json": {
       "model_id": "",
       "version_major": 2,
       "version_minor": 0
      },
      "text/plain": [
       "FloatProgress(value=0.0, bar_style='info', description='Progress:', layout=Layout(height='25px', width='50%'),…"
      ]
     },
     "metadata": {},
     "output_type": "display_data"
    },
    {
     "name": "stdout",
     "output_type": "stream",
     "text": [
      "root\n",
      " |-- path: string (nullable = true)\n",
      " |-- modificationTime: timestamp (nullable = true)\n",
      " |-- length: long (nullable = true)\n",
      " |-- content: binary (nullable = true)\n",
      " |-- label: string (nullable = true)\n",
      "\n",
      "None\n",
      "+----------------------------------------------------+----------+\n",
      "|path                                                |label     |\n",
      "+----------------------------------------------------+----------+\n",
      "|s3://ocangrand-p9-data/Test/Watermelon/r_106_100.jpg|Watermelon|\n",
      "|s3://ocangrand-p9-data/Test/Watermelon/r_109_100.jpg|Watermelon|\n",
      "|s3://ocangrand-p9-data/Test/Watermelon/r_108_100.jpg|Watermelon|\n",
      "|s3://ocangrand-p9-data/Test/Watermelon/r_107_100.jpg|Watermelon|\n",
      "|s3://ocangrand-p9-data/Test/Watermelon/r_95_100.jpg |Watermelon|\n",
      "+----------------------------------------------------+----------+\n",
      "only showing top 5 rows\n",
      "\n",
      "None"
     ]
    }
   ],
   "source": [
    "images = images.withColumn('label', element_at(split(images['path'], '/'),-2))\n",
    "print(images.printSchema())\n",
    "print(images.select('path','label').show(5,False))"
   ]
  },
  {
   "cell_type": "markdown",
   "id": "8f15b199",
   "metadata": {},
   "source": [
    "### Préparation du modèle"
   ]
  },
  {
   "cell_type": "code",
   "execution_count": 9,
   "id": "ec7c7165",
   "metadata": {},
   "outputs": [
    {
     "data": {
      "application/vnd.jupyter.widget-view+json": {
       "model_id": "",
       "version_major": 2,
       "version_minor": 0
      },
      "text/plain": [
       "FloatProgress(value=0.0, bar_style='info', description='Progress:', layout=Layout(height='25px', width='50%'),…"
      ]
     },
     "metadata": {},
     "output_type": "display_data"
    },
    {
     "name": "stdout",
     "output_type": "stream",
     "text": [
      "Downloading data from https://storage.googleapis.com/tensorflow/keras-applications/mobilenet_v2/mobilenet_v2_weights_tf_dim_ordering_tf_kernels_1.0_224.h5\n",
      "\r",
      "\u001b[1m       0/14536120\u001b[0m \u001b[37m━━━━━━━━━━━━━━━━━━━━\u001b[0m \u001b[1m0s\u001b[0m 0s/step\b\b\b\b\b\b\b\b\b\b\b\b\b\b\b\b\b\b\b\b\b\b\b\b\b\b\b\b\b\b\b\b\b\b\b\b\b\b\b\b\b\b\b\b\b\b\b\b\b\r",
      "\u001b[1m   49152/14536120\u001b[0m \u001b[37m━━━━━━━━━━━━━━━━━━━━\u001b[0m \u001b[1m35s\u001b[0m 2us/step\b\b\b\b\b\b\b\b\b\b\b\b\b\b\b\b\b\b\b\b\b\b\b\b\b\b\b\b\b\b\b\b\b\b\b\b\b\b\b\b\b\b\b\b\b\b\b\b\b\b\b\r",
      "\u001b[1m   81920/14536120\u001b[0m \u001b[37m━━━━━━━━━━━━━━━━━━━━\u001b[0m \u001b[1m40s\u001b[0m 3us/step\b\b\b\b\b\b\b\b\b\b\b\b\b\b\b\b\b\b\b\b\b\b\b\b\b\b\b\b\b\b\b\b\b\b\b\b\b\b\b\b\b\b\b\b\b\b\b\b\b\b\b\r",
      "\u001b[1m  147456/14536120\u001b[0m \u001b[37m━━━━━━━━━━━━━━━━━━━━\u001b[0m \u001b[1m27s\u001b[0m 2us/step\b\b\b\b\b\b\b\b\b\b\b\b\b\b\b\b\b\b\b\b\b\b\b\b\b\b\b\b\b\b\b\b\b\b\b\b\b\b\b\b\b\b\b\b\b\b\b\b\b\b\b\r",
      "\u001b[1m  212992/14536120\u001b[0m \u001b[37m━━━━━━━━━━━━━━━━━━━━\u001b[0m \u001b[1m22s\u001b[0m 2us/step\b\b\b\b\b\b\b\b\b\b\b\b\b\b\b\b\b\b\b\b\b\b\b\b\b\b\b\b\b\b\b\b\b\b\b\b\b\b\b\b\b\b\b\b\b\b\b\b\b\b\b\r",
      "\u001b[1m  278528/14536120\u001b[0m \u001b[37m━━━━━━━━━━━━━━━━━━━━\u001b[0m \u001b[1m19s\u001b[0m 1us/step\b\b\b\b\b\b\b\b\b\b\b\b\b\b\b\b\b\b\b\b\b\b\b\b\b\b\b\b\b\b\b\b\b\b\b\b\b\b\b\b\b\b\b\b\b\b\b\b\b\b\b\r",
      "\u001b[1m  385024/14536120\u001b[0m \u001b[37m━━━━━━━━━━━━━━━━━━━━\u001b[0m \u001b[1m16s\u001b[0m 1us/step\b\b\b\b\b\b\b\b\b\b\b\b\b\b\b\b\b\b\b\b\b\b\b\b\b\b\b\b\b\b\b\b\b\b\b\b\b\b\b\b\b\b\b\b\b\b\b\b\b\b\b\r",
      "\u001b[1m  557056/14536120\u001b[0m \u001b[37m━━━━━━━━━━━━━━━━━━━━\u001b[0m \u001b[1m12s\u001b[0m 1us/step\b\b\b\b\b\b\b\b\b\b\b\b\b\b\b\b\b\b\b\b\b\b\b\b\b\b\b\b\b\b\b\b\b\b\b\b\b\b\b\b\b\b\b\b\b\b\b\b\b\b\b\r",
      "\u001b[1m  753664/14536120\u001b[0m \u001b[32m━\u001b[0m\u001b[37m━━━━━━━━━━━━━━━━━━━\u001b[0m \u001b[1m9s\u001b[0m 1us/step \b\b\b\b\b\b\b\b\b\b\b\b\b\b\b\b\b\b\b\b\b\b\b\b\b\b\b\b\b\b\b\b\b\b\b\b\b\b\b\b\b\b\b\b\b\b\b\b\b\b\r",
      "\u001b[1m 1081344/14536120\u001b[0m \u001b[32m━\u001b[0m\u001b[37m━━━━━━━━━━━━━━━━━━━\u001b[0m \u001b[1m7s\u001b[0m 1us/step\b\b\b\b\b\b\b\b\b\b\b\b\b\b\b\b\b\b\b\b\b\b\b\b\b\b\b\b\b\b\b\b\b\b\b\b\b\b\b\b\b\b\b\b\b\b\b\b\b\b\r",
      "\u001b[1m 1556480/14536120\u001b[0m \u001b[32m━━\u001b[0m\u001b[37m━━━━━━━━━━━━━━━━━━\u001b[0m \u001b[1m5s\u001b[0m 0us/step\b\b\b\b\b\b\b\b\b\b\b\b\b\b\b\b\b\b\b\b\b\b\b\b\b\b\b\b\b\b\b\b\b\b\b\b\b\b\b\b\b\b\b\b\b\b\b\b\b\b\r",
      "\u001b[1m 2187264/14536120\u001b[0m \u001b[32m━━━\u001b[0m\u001b[37m━━━━━━━━━━━━━━━━━\u001b[0m \u001b[1m3s\u001b[0m 0us/step\b\b\b\b\b\b\b\b\b\b\b\b\b\b\b\b\b\b\b\b\b\b\b\b\b\b\b\b\b\b\b\b\b\b\b\b\b\b\b\b\b\b\b\b\b\b\b\b\b\b\r",
      "\u001b[1m 3137536/14536120\u001b[0m \u001b[32m━━━━\u001b[0m\u001b[37m━━━━━━━━━━━━━━━━\u001b[0m \u001b[1m2s\u001b[0m 0us/step\b\b\b\b\b\b\b\b\b\b\b\b\b\b\b\b\b\b\b\b\b\b\b\b\b\b\b\b\b\b\b\b\b\b\b\b\b\b\b\b\b\b\b\b\b\b\b\b\b\b\r",
      "\u001b[1m 4472832/14536120\u001b[0m \u001b[32m━━━━━━\u001b[0m\u001b[37m━━━━━━━━━━━━━━\u001b[0m \u001b[1m1s\u001b[0m 0us/step\b\b\b\b\b\b\b\b\b\b\b\b\b\b\b\b\b\b\b\b\b\b\b\b\b\b\b\b\b\b\b\b\b\b\b\b\b\b\b\b\b\b\b\b\b\b\b\b\b\b\r",
      "\u001b[1m 6389760/14536120\u001b[0m \u001b[32m━━━━━━━━\u001b[0m\u001b[37m━━━━━━━━━━━━\u001b[0m \u001b[1m1s\u001b[0m 0us/step\b\b\b\b\b\b\b\b\b\b\b\b\b\b\b\b\b\b\b\b\b\b\b\b\b\b\b\b\b\b\b\b\b\b\b\b\b\b\b\b\b\b\b\b\b\b\b\b\b\b\r",
      "\u001b[1m 8142848/14536120\u001b[0m \u001b[32m━━━━━━━━━━━\u001b[0m\u001b[37m━━━━━━━━━\u001b[0m \u001b[1m0s\u001b[0m 0us/step\b\b\b\b\b\b\b\b\b\b\b\b\b\b\b\b\b\b\b\b\b\b\b\b\b\b\b\b\b\b\b\b\b\b\b\b\b\b\b\b\b\b\b\b\b\b\b\b\b\b\r",
      "\u001b[1m10174464/14536120\u001b[0m \u001b[32m━━━━━━━━━━━━━\u001b[0m\u001b[37m━━━━━━━\u001b[0m \u001b[1m0s\u001b[0m 0us/step\b\b\b\b\b\b\b\b\b\b\b\b\b\b\b\b\b\b\b\b\b\b\b\b\b\b\b\b\b\b\b\b\b\b\b\b\b\b\b\b\b\b\b\b\b\b\b\b\b\b\r",
      "\u001b[1m12353536/14536120\u001b[0m \u001b[32m━━━━━━━━━━━━━━━━\u001b[0m\u001b[37m━━━━\u001b[0m \u001b[1m0s\u001b[0m 0us/step\b\b\b\b\b\b\b\b\b\b\b\b\b\b\b\b\b\b\b\b\b\b\b\b\b\b\b\b\b\b\b\b\b\b\b\b\b\b\b\b\b\b\b\b\b\b\b\b\b\b\r",
      "\u001b[1m14536120/14536120\u001b[0m \u001b[32m━━━━━━━━━━━━━━━━━━━━\u001b[0m\u001b[37m\u001b[0m \u001b[1m1s\u001b[0m 0us/step"
     ]
    }
   ],
   "source": [
    "model = MobileNetV2(weights='imagenet',\n",
    "                    include_top=True,\n",
    "                    input_shape=(224, 224, 3))"
   ]
  },
  {
   "cell_type": "code",
   "execution_count": 10,
   "id": "1b9bc650",
   "metadata": {},
   "outputs": [
    {
     "data": {
      "application/vnd.jupyter.widget-view+json": {
       "model_id": "",
       "version_major": 2,
       "version_minor": 0
      },
      "text/plain": [
       "FloatProgress(value=0.0, bar_style='info', description='Progress:', layout=Layout(height='25px', width='50%'),…"
      ]
     },
     "metadata": {},
     "output_type": "display_data"
    }
   ],
   "source": [
    "new_model = Model(inputs=model.input,\n",
    "                  outputs=model.layers[-2].output)"
   ]
  },
  {
   "cell_type": "code",
   "execution_count": 11,
   "id": "a0d497f2",
   "metadata": {},
   "outputs": [
    {
     "data": {
      "application/vnd.jupyter.widget-view+json": {
       "model_id": "",
       "version_major": 2,
       "version_minor": 0
      },
      "text/plain": [
       "FloatProgress(value=0.0, bar_style='info', description='Progress:', layout=Layout(height='25px', width='50%'),…"
      ]
     },
     "metadata": {},
     "output_type": "display_data"
    }
   ],
   "source": [
    "brodcast_weights = sc.broadcast(new_model.get_weights())"
   ]
  },
  {
   "cell_type": "code",
   "execution_count": 12,
   "id": "1bc0bf14",
   "metadata": {},
   "outputs": [
    {
     "data": {
      "application/vnd.jupyter.widget-view+json": {
       "model_id": "",
       "version_major": 2,
       "version_minor": 0
      },
      "text/plain": [
       "FloatProgress(value=0.0, bar_style='info', description='Progress:', layout=Layout(height='25px', width='50%'),…"
      ]
     },
     "metadata": {},
     "output_type": "display_data"
    },
    {
     "name": "stdout",
     "output_type": "stream",
     "text": [
      "Model: \"functional_1\"\n",
      "┏━━━━━━━━━━━━━━━━━━━━━┳━━━━━━━━━━━━━━━━━━━┳━━━━━━━━━━━━┳━━━━━━━━━━━━━━━━━━━┓\n",
      "┃ Layer (type)        ┃ Output Shape      ┃    Param # ┃ Connected to      ┃\n",
      "┡━━━━━━━━━━━━━━━━━━━━━╇━━━━━━━━━━━━━━━━━━━╇━━━━━━━━━━━━╇━━━━━━━━━━━━━━━━━━━┩\n",
      "│ input_layer         │ (None, 224, 224,  │          0 │ -                 │\n",
      "│ (InputLayer)        │ 3)                │            │                   │\n",
      "├─────────────────────┼───────────────────┼────────────┼───────────────────┤\n",
      "│ Conv1 (Conv2D)      │ (None, 112, 112,  │        864 │ input_layer[0][0] │\n",
      "│                     │ 32)               │            │                   │\n",
      "├─────────────────────┼───────────────────┼────────────┼───────────────────┤\n",
      "│ bn_Conv1            │ (None, 112, 112,  │        128 │ Conv1[0][0]       │\n",
      "│ (BatchNormalizatio… │ 32)               │            │                   │\n",
      "├─────────────────────┼───────────────────┼────────────┼───────────────────┤\n",
      "│ Conv1_relu (ReLU)   │ (None, 112, 112,  │          0 │ bn_Conv1[0][0]    │\n",
      "│                     │ 32)               │            │                   │\n",
      "├─────────────────────┼───────────────────┼────────────┼───────────────────┤\n",
      "│ expanded_conv_dept… │ (None, 112, 112,  │        288 │ Conv1_relu[0][0]  │\n",
      "│ (DepthwiseConv2D)   │ 32)               │            │                   │\n",
      "├─────────────────────┼───────────────────┼────────────┼───────────────────┤\n",
      "│ expanded_conv_dept… │ (None, 112, 112,  │        128 │ expanded_conv_de… │\n",
      "│ (BatchNormalizatio… │ 32)               │            │                   │\n",
      "├─────────────────────┼───────────────────┼────────────┼───────────────────┤\n",
      "│ expanded_conv_dept… │ (None, 112, 112,  │          0 │ expanded_conv_de… │\n",
      "│ (ReLU)              │ 32)               │            │                   │\n",
      "├─────────────────────┼───────────────────┼────────────┼───────────────────┤\n",
      "│ expanded_conv_proj… │ (None, 112, 112,  │        512 │ expanded_conv_de… │\n",
      "│ (Conv2D)            │ 16)               │            │                   │\n",
      "├─────────────────────┼───────────────────┼────────────┼───────────────────┤\n",
      "│ expanded_conv_proj… │ (None, 112, 112,  │         64 │ expanded_conv_pr… │\n",
      "│ (BatchNormalizatio… │ 16)               │            │                   │\n",
      "├─────────────────────┼───────────────────┼────────────┼───────────────────┤\n",
      "│ block_1_expand      │ (None, 112, 112,  │      1,536 │ expanded_conv_pr… │\n",
      "│ (Conv2D)            │ 96)               │            │                   │\n",
      "├─────────────────────┼───────────────────┼────────────┼───────────────────┤\n",
      "│ block_1_expand_BN   │ (None, 112, 112,  │        384 │ block_1_expand[0… │\n",
      "│ (BatchNormalizatio… │ 96)               │            │                   │\n",
      "├─────────────────────┼───────────────────┼────────────┼───────────────────┤\n",
      "│ block_1_expand_relu │ (None, 112, 112,  │          0 │ block_1_expand_B… │\n",
      "│ (ReLU)              │ 96)               │            │                   │\n",
      "├─────────────────────┼───────────────────┼────────────┼───────────────────┤\n",
      "│ block_1_pad         │ (None, 113, 113,  │          0 │ block_1_expand_r… │\n",
      "│ (ZeroPadding2D)     │ 96)               │            │                   │\n",
      "├─────────────────────┼───────────────────┼────────────┼───────────────────┤\n",
      "│ block_1_depthwise   │ (None, 56, 56,    │        864 │ block_1_pad[0][0] │\n",
      "│ (DepthwiseConv2D)   │ 96)               │            │                   │\n",
      "├─────────────────────┼───────────────────┼────────────┼───────────────────┤\n",
      "│ block_1_depthwise_… │ (None, 56, 56,    │        384 │ block_1_depthwis… │\n",
      "│ (BatchNormalizatio… │ 96)               │            │                   │\n",
      "├─────────────────────┼───────────────────┼────────────┼───────────────────┤\n",
      "│ block_1_depthwise_… │ (None, 56, 56,    │          0 │ block_1_depthwis… │\n",
      "│ (ReLU)              │ 96)               │            │                   │\n",
      "├─────────────────────┼───────────────────┼────────────┼───────────────────┤\n",
      "│ block_1_project     │ (None, 56, 56,    │      2,304 │ block_1_depthwis… │\n",
      "│ (Conv2D)            │ 24)               │            │                   │\n",
      "├─────────────────────┼───────────────────┼────────────┼───────────────────┤\n",
      "│ block_1_project_BN  │ (None, 56, 56,    │         96 │ block_1_project[… │\n",
      "│ (BatchNormalizatio… │ 24)               │            │                   │\n",
      "├─────────────────────┼───────────────────┼────────────┼───────────────────┤\n",
      "│ block_2_expand      │ (None, 56, 56,    │      3,456 │ block_1_project_… │\n",
      "│ (Conv2D)            │ 144)              │            │                   │\n",
      "├─────────────────────┼───────────────────┼────────────┼───────────────────┤\n",
      "│ block_2_expand_BN   │ (None, 56, 56,    │        576 │ block_2_expand[0… │\n",
      "│ (BatchNormalizatio… │ 144)              │            │                   │\n",
      "├─────────────────────┼───────────────────┼────────────┼───────────────────┤\n",
      "│ block_2_expand_relu │ (None, 56, 56,    │          0 │ block_2_expand_B… │\n",
      "│ (ReLU)              │ 144)              │            │                   │\n",
      "├─────────────────────┼───────────────────┼────────────┼───────────────────┤\n",
      "│ block_2_depthwise   │ (None, 56, 56,    │      1,296 │ block_2_expand_r… │\n",
      "│ (DepthwiseConv2D)   │ 144)              │            │                   │\n",
      "├─────────────────────┼───────────────────┼────────────┼───────────────────┤\n",
      "│ block_2_depthwise_… │ (None, 56, 56,    │        576 │ block_2_depthwis… │\n",
      "│ (BatchNormalizatio… │ 144)              │            │                   │\n",
      "├─────────────────────┼───────────────────┼────────────┼───────────────────┤\n",
      "│ block_2_depthwise_… │ (None, 56, 56,    │          0 │ block_2_depthwis… │\n",
      "│ (ReLU)              │ 144)              │            │                   │\n",
      "├─────────────────────┼───────────────────┼────────────┼───────────────────┤\n",
      "│ block_2_project     │ (None, 56, 56,    │      3,456 │ block_2_depthwis… │\n",
      "│ (Conv2D)            │ 24)               │            │                   │\n",
      "├─────────────────────┼───────────────────┼────────────┼───────────────────┤\n",
      "│ block_2_project_BN  │ (None, 56, 56,    │         96 │ block_2_project[… │\n",
      "│ (BatchNormalizatio… │ 24)               │            │                   │\n",
      "├─────────────────────┼───────────────────┼────────────┼───────────────────┤\n",
      "│ block_2_add (Add)   │ (None, 56, 56,    │          0 │ block_1_project_… │\n",
      "│                     │ 24)               │            │ block_2_project_… │\n",
      "├─────────────────────┼───────────────────┼────────────┼───────────────────┤\n",
      "│ block_3_expand      │ (None, 56, 56,    │      3,456 │ block_2_add[0][0] │\n",
      "│ (Conv2D)            │ 144)              │            │                   │\n",
      "├─────────────────────┼───────────────────┼────────────┼───────────────────┤\n",
      "│ block_3_expand_BN   │ (None, 56, 56,    │        576 │ block_3_expand[0… │\n",
      "│ (BatchNormalizatio… │ 144)              │            │                   │\n",
      "├─────────────────────┼───────────────────┼────────────┼───────────────────┤\n",
      "│ block_3_expand_relu │ (None, 56, 56,    │          0 │ block_3_expand_B… │\n",
      "│ (ReLU)              │ 144)              │            │                   │\n",
      "├─────────────────────┼───────────────────┼────────────┼───────────────────┤\n",
      "│ block_3_pad         │ (None, 57, 57,    │          0 │ block_3_expand_r… │\n",
      "│ (ZeroPadding2D)     │ 144)              │            │                   │\n",
      "├─────────────────────┼───────────────────┼────────────┼───────────────────┤\n",
      "│ block_3_depthwise   │ (None, 28, 28,    │      1,296 │ block_3_pad[0][0] │\n",
      "│ (DepthwiseConv2D)   │ 144)              │            │                   │\n",
      "├─────────────────────┼───────────────────┼────────────┼───────────────────┤\n",
      "│ block_3_depthwise_… │ (None, 28, 28,    │        576 │ block_3_depthwis… │\n",
      "│ (BatchNormalizatio… │ 144)              │            │                   │\n",
      "├─────────────────────┼───────────────────┼────────────┼───────────────────┤\n",
      "│ block_3_depthwise_… │ (None, 28, 28,    │          0 │ block_3_depthwis… │\n",
      "│ (ReLU)              │ 144)              │            │                   │\n",
      "├─────────────────────┼───────────────────┼────────────┼───────────────────┤\n",
      "│ block_3_project     │ (None, 28, 28,    │      4,608 │ block_3_depthwis… │\n",
      "│ (Conv2D)            │ 32)               │            │                   │\n",
      "├─────────────────────┼───────────────────┼────────────┼───────────────────┤\n",
      "│ block_3_project_BN  │ (None, 28, 28,    │        128 │ block_3_project[… │\n",
      "│ (BatchNormalizatio… │ 32)               │            │                   │\n",
      "├─────────────────────┼───────────────────┼────────────┼───────────────────┤\n",
      "│ block_4_expand      │ (None, 28, 28,    │      6,144 │ block_3_project_… │\n",
      "│ (Conv2D)            │ 192)              │            │                   │\n",
      "├─────────────────────┼───────────────────┼────────────┼───────────────────┤\n",
      "│ block_4_expand_BN   │ (None, 28, 28,    │        768 │ block_4_expand[0… │\n",
      "│ (BatchNormalizatio… │ 192)              │            │                   │\n",
      "├─────────────────────┼───────────────────┼────────────┼───────────────────┤\n",
      "│ block_4_expand_relu │ (None, 28, 28,    │          0 │ block_4_expand_B… │\n",
      "│ (ReLU)              │ 192)              │            │                   │\n",
      "├─────────────────────┼───────────────────┼────────────┼───────────────────┤\n",
      "│ block_4_depthwise   │ (None, 28, 28,    │      1,728 │ block_4_expand_r… │\n",
      "│ (DepthwiseConv2D)   │ 192)              │            │                   │\n",
      "├─────────────────────┼───────────────────┼────────────┼───────────────────┤\n",
      "│ block_4_depthwise_… │ (None, 28, 28,    │        768 │ block_4_depthwis… │\n",
      "│ (BatchNormalizatio… │ 192)              │            │                   │\n",
      "├─────────────────────┼───────────────────┼────────────┼───────────────────┤\n",
      "│ block_4_depthwise_… │ (None, 28, 28,    │          0 │ block_4_depthwis… │\n",
      "│ (ReLU)              │ 192)              │            │                   │\n",
      "├─────────────────────┼───────────────────┼────────────┼───────────────────┤\n",
      "│ block_4_project     │ (None, 28, 28,    │      6,144 │ block_4_depthwis… │\n",
      "│ (Conv2D)            │ 32)               │            │                   │\n",
      "├─────────────────────┼───────────────────┼────────────┼───────────────────┤\n",
      "│ block_4_project_BN  │ (None, 28, 28,    │        128 │ block_4_project[… │\n",
      "│ (BatchNormalizatio… │ 32)               │            │                   │\n",
      "├─────────────────────┼───────────────────┼────────────┼───────────────────┤\n",
      "│ block_4_add (Add)   │ (None, 28, 28,    │          0 │ block_3_project_… │\n",
      "│                     │ 32)               │            │ block_4_project_… │\n",
      "├─────────────────────┼───────────────────┼────────────┼───────────────────┤\n",
      "│ block_5_expand      │ (None, 28, 28,    │      6,144 │ block_4_add[0][0] │\n",
      "│ (Conv2D)            │ 192)              │            │                   │\n",
      "├─────────────────────┼───────────────────┼────────────┼───────────────────┤\n",
      "│ block_5_expand_BN   │ (None, 28, 28,    │        768 │ block_5_expand[0… │\n",
      "│ (BatchNormalizatio… │ 192)              │            │                   │\n",
      "├─────────────────────┼───────────────────┼────────────┼───────────────────┤\n",
      "│ block_5_expand_relu │ (None, 28, 28,    │          0 │ block_5_expand_B… │\n",
      "│ (ReLU)              │ 192)              │            │                   │\n",
      "├─────────────────────┼───────────────────┼────────────┼───────────────────┤\n",
      "│ block_5_depthwise   │ (None, 28, 28,    │      1,728 │ block_5_expand_r… │\n",
      "│ (DepthwiseConv2D)   │ 192)              │            │                   │\n",
      "├─────────────────────┼───────────────────┼────────────┼───────────────────┤\n",
      "│ block_5_depthwise_… │ (None, 28, 28,    │        768 │ block_5_depthwis… │\n",
      "│ (BatchNormalizatio… │ 192)              │            │                   │\n",
      "├─────────────────────┼───────────────────┼────────────┼───────────────────┤\n",
      "│ block_5_depthwise_… │ (None, 28, 28,    │          0 │ block_5_depthwis… │\n",
      "│ (ReLU)              │ 192)              │            │                   │\n",
      "├─────────────────────┼───────────────────┼────────────┼───────────────────┤\n",
      "│ block_5_project     │ (None, 28, 28,    │      6,144 │ block_5_depthwis… │\n",
      "│ (Conv2D)            │ 32)               │            │                   │\n",
      "├─────────────────────┼───────────────────┼────────────┼───────────────────┤\n",
      "│ block_5_project_BN  │ (None, 28, 28,    │        128 │ block_5_project[… │\n",
      "│ (BatchNormalizatio… │ 32)               │            │                   │\n",
      "├─────────────────────┼───────────────────┼────────────┼───────────────────┤\n",
      "│ block_5_add (Add)   │ (None, 28, 28,    │          0 │ block_4_add[0][0… │\n",
      "│                     │ 32)               │            │ block_5_project_… │\n",
      "├─────────────────────┼───────────────────┼────────────┼───────────────────┤\n",
      "│ block_6_expand      │ (None, 28, 28,    │      6,144 │ block_5_add[0][0] │\n",
      "│ (Conv2D)            │ 192)              │            │                   │\n",
      "├─────────────────────┼───────────────────┼────────────┼───────────────────┤\n",
      "│ block_6_expand_BN   │ (None, 28, 28,    │        768 │ block_6_expand[0… │\n",
      "│ (BatchNormalizatio… │ 192)              │            │                   │\n",
      "├─────────────────────┼───────────────────┼────────────┼───────────────────┤\n",
      "│ block_6_expand_relu │ (None, 28, 28,    │          0 │ block_6_expand_B… │\n",
      "│ (ReLU)              │ 192)              │            │                   │\n",
      "├─────────────────────┼───────────────────┼────────────┼───────────────────┤\n",
      "│ block_6_pad         │ (None, 29, 29,    │          0 │ block_6_expand_r… │\n",
      "│ (ZeroPadding2D)     │ 192)              │            │                   │\n",
      "├─────────────────────┼───────────────────┼────────────┼───────────────────┤\n",
      "│ block_6_depthwise   │ (None, 14, 14,    │      1,728 │ block_6_pad[0][0] │\n",
      "│ (DepthwiseConv2D)   │ 192)              │            │                   │\n",
      "├─────────────────────┼───────────────────┼────────────┼───────────────────┤\n",
      "│ block_6_depthwise_… │ (None, 14, 14,    │        768 │ block_6_depthwis… │\n",
      "│ (BatchNormalizatio… │ 192)              │            │                   │\n",
      "├─────────────────────┼───────────────────┼────────────┼───────────────────┤\n",
      "│ block_6_depthwise_… │ (None, 14, 14,    │          0 │ block_6_depthwis… │\n",
      "│ (ReLU)              │ 192)              │            │                   │\n",
      "├─────────────────────┼───────────────────┼────────────┼───────────────────┤\n",
      "│ block_6_project     │ (None, 14, 14,    │     12,288 │ block_6_depthwis… │\n",
      "│ (Conv2D)            │ 64)               │            │                   │\n",
      "├─────────────────────┼───────────────────┼────────────┼───────────────────┤\n",
      "│ block_6_project_BN  │ (None, 14, 14,    │        256 │ block_6_project[… │\n",
      "│ (BatchNormalizatio… │ 64)               │            │                   │\n",
      "├─────────────────────┼───────────────────┼────────────┼───────────────────┤\n",
      "│ block_7_expand      │ (None, 14, 14,    │     24,576 │ block_6_project_… │\n",
      "│ (Conv2D)            │ 384)              │            │                   │\n",
      "├─────────────────────┼───────────────────┼────────────┼───────────────────┤\n",
      "│ block_7_expand_BN   │ (None, 14, 14,    │      1,536 │ block_7_expand[0… │\n",
      "│ (BatchNormalizatio… │ 384)              │            │                   │\n",
      "├─────────────────────┼───────────────────┼────────────┼───────────────────┤\n",
      "│ block_7_expand_relu │ (None, 14, 14,    │          0 │ block_7_expand_B… │\n",
      "│ (ReLU)              │ 384)              │            │                   │\n",
      "├─────────────────────┼───────────────────┼────────────┼───────────────────┤\n",
      "│ block_7_depthwise   │ (None, 14, 14,    │      3,456 │ block_7_expand_r… │\n",
      "│ (DepthwiseConv2D)   │ 384)              │            │                   │\n",
      "├─────────────────────┼───────────────────┼────────────┼───────────────────┤\n",
      "│ block_7_depthwise_… │ (None, 14, 14,    │      1,536 │ block_7_depthwis… │\n",
      "│ (BatchNormalizatio… │ 384)              │            │                   │\n",
      "├─────────────────────┼───────────────────┼────────────┼───────────────────┤\n",
      "│ block_7_depthwise_… │ (None, 14, 14,    │          0 │ block_7_depthwis… │\n",
      "│ (ReLU)              │ 384)              │            │                   │\n",
      "├─────────────────────┼───────────────────┼────────────┼───────────────────┤\n",
      "│ block_7_project     │ (None, 14, 14,    │     24,576 │ block_7_depthwis… │\n",
      "│ (Conv2D)            │ 64)               │            │                   │\n",
      "├─────────────────────┼───────────────────┼────────────┼───────────────────┤\n",
      "│ block_7_project_BN  │ (None, 14, 14,    │        256 │ block_7_project[… │\n",
      "│ (BatchNormalizatio… │ 64)               │            │                   │\n",
      "├─────────────────────┼───────────────────┼────────────┼───────────────────┤\n",
      "│ block_7_add (Add)   │ (None, 14, 14,    │          0 │ block_6_project_… │\n",
      "│                     │ 64)               │            │ block_7_project_… │\n",
      "├─────────────────────┼───────────────────┼────────────┼───────────────────┤\n",
      "│ block_8_expand      │ (None, 14, 14,    │     24,576 │ block_7_add[0][0] │\n",
      "│ (Conv2D)            │ 384)              │            │                   │\n",
      "├─────────────────────┼───────────────────┼────────────┼───────────────────┤\n",
      "│ block_8_expand_BN   │ (None, 14, 14,    │      1,536 │ block_8_expand[0… │\n",
      "│ (BatchNormalizatio… │ 384)              │            │                   │\n",
      "├─────────────────────┼───────────────────┼────────────┼───────────────────┤\n",
      "│ block_8_expand_relu │ (None, 14, 14,    │          0 │ block_8_expand_B… │\n",
      "│ (ReLU)              │ 384)              │            │                   │\n",
      "├─────────────────────┼───────────────────┼────────────┼───────────────────┤\n",
      "│ block_8_depthwise   │ (None, 14, 14,    │      3,456 │ block_8_expand_r… │\n",
      "│ (DepthwiseConv2D)   │ 384)              │            │                   │\n",
      "├─────────────────────┼───────────────────┼────────────┼───────────────────┤\n",
      "│ block_8_depthwise_… │ (None, 14, 14,    │      1,536 │ block_8_depthwis… │\n",
      "│ (BatchNormalizatio… │ 384)              │            │                   │\n",
      "├─────────────────────┼───────────────────┼────────────┼───────────────────┤\n",
      "│ block_8_depthwise_… │ (None, 14, 14,    │          0 │ block_8_depthwis… │\n",
      "│ (ReLU)              │ 384)              │            │                   │\n",
      "├─────────────────────┼───────────────────┼────────────┼───────────────────┤\n",
      "│ block_8_project     │ (None, 14, 14,    │     24,576 │ block_8_depthwis… │\n",
      "│ (Conv2D)            │ 64)               │            │                   │\n",
      "├─────────────────────┼───────────────────┼────────────┼───────────────────┤\n",
      "│ block_8_project_BN  │ (None, 14, 14,    │        256 │ block_8_project[… │\n",
      "│ (BatchNormalizatio… │ 64)               │            │                   │\n",
      "├─────────────────────┼───────────────────┼────────────┼───────────────────┤\n",
      "│ block_8_add (Add)   │ (None, 14, 14,    │          0 │ block_7_add[0][0… │\n",
      "│                     │ 64)               │            │ block_8_project_… │\n",
      "├─────────────────────┼───────────────────┼────────────┼───────────────────┤\n",
      "│ block_9_expand      │ (None, 14, 14,    │     24,576 │ block_8_add[0][0] │\n",
      "│ (Conv2D)            │ 384)              │            │                   │\n",
      "├─────────────────────┼───────────────────┼────────────┼───────────────────┤\n",
      "│ block_9_expand_BN   │ (None, 14, 14,    │      1,536 │ block_9_expand[0… │\n",
      "│ (BatchNormalizatio… │ 384)              │            │                   │\n",
      "├─────────────────────┼───────────────────┼────────────┼───────────────────┤\n",
      "│ block_9_expand_relu │ (None, 14, 14,    │          0 │ block_9_expand_B… │\n",
      "│ (ReLU)              │ 384)              │            │                   │\n",
      "├─────────────────────┼───────────────────┼────────────┼───────────────────┤\n",
      "│ block_9_depthwise   │ (None, 14, 14,    │      3,456 │ block_9_expand_r… │\n",
      "│ (DepthwiseConv2D)   │ 384)              │            │                   │\n",
      "├─────────────────────┼───────────────────┼────────────┼───────────────────┤\n",
      "│ block_9_depthwise_… │ (None, 14, 14,    │      1,536 │ block_9_depthwis… │\n",
      "│ (BatchNormalizatio… │ 384)              │            │                   │\n",
      "├─────────────────────┼───────────────────┼────────────┼───────────────────┤\n",
      "│ block_9_depthwise_… │ (None, 14, 14,    │          0 │ block_9_depthwis… │\n",
      "│ (ReLU)              │ 384)              │            │                   │\n",
      "├─────────────────────┼───────────────────┼────────────┼───────────────────┤\n",
      "│ block_9_project     │ (None, 14, 14,    │     24,576 │ block_9_depthwis… │\n",
      "│ (Conv2D)            │ 64)               │            │                   │\n",
      "├─────────────────────┼───────────────────┼────────────┼───────────────────┤\n",
      "│ block_9_project_BN  │ (None, 14, 14,    │        256 │ block_9_project[… │\n",
      "│ (BatchNormalizatio… │ 64)               │            │                   │\n",
      "├─────────────────────┼───────────────────┼────────────┼───────────────────┤\n",
      "│ block_9_add (Add)   │ (None, 14, 14,    │          0 │ block_8_add[0][0… │\n",
      "│                     │ 64)               │            │ block_9_project_… │\n",
      "├─────────────────────┼───────────────────┼────────────┼───────────────────┤\n",
      "│ block_10_expand     │ (None, 14, 14,    │     24,576 │ block_9_add[0][0] │\n",
      "│ (Conv2D)            │ 384)              │            │                   │\n",
      "├─────────────────────┼───────────────────┼────────────┼───────────────────┤\n",
      "│ block_10_expand_BN  │ (None, 14, 14,    │      1,536 │ block_10_expand[… │\n",
      "│ (BatchNormalizatio… │ 384)              │            │                   │\n",
      "├─────────────────────┼───────────────────┼────────────┼───────────────────┤\n",
      "│ block_10_expand_re… │ (None, 14, 14,    │          0 │ block_10_expand_… │\n",
      "│ (ReLU)              │ 384)              │            │                   │\n",
      "├─────────────────────┼───────────────────┼────────────┼───────────────────┤\n",
      "│ block_10_depthwise  │ (None, 14, 14,    │      3,456 │ block_10_expand_… │\n",
      "│ (DepthwiseConv2D)   │ 384)              │            │                   │\n",
      "├─────────────────────┼───────────────────┼────────────┼───────────────────┤\n",
      "│ block_10_depthwise… │ (None, 14, 14,    │      1,536 │ block_10_depthwi… │\n",
      "│ (BatchNormalizatio… │ 384)              │            │                   │\n",
      "├─────────────────────┼───────────────────┼────────────┼───────────────────┤\n",
      "│ block_10_depthwise… │ (None, 14, 14,    │          0 │ block_10_depthwi… │\n",
      "│ (ReLU)              │ 384)              │            │                   │\n",
      "├─────────────────────┼───────────────────┼────────────┼───────────────────┤\n",
      "│ block_10_project    │ (None, 14, 14,    │     36,864 │ block_10_depthwi… │\n",
      "│ (Conv2D)            │ 96)               │            │                   │\n",
      "├─────────────────────┼───────────────────┼────────────┼───────────────────┤\n",
      "│ block_10_project_BN │ (None, 14, 14,    │        384 │ block_10_project… │\n",
      "│ (BatchNormalizatio… │ 96)               │            │                   │\n",
      "├─────────────────────┼───────────────────┼────────────┼───────────────────┤\n",
      "│ block_11_expand     │ (None, 14, 14,    │     55,296 │ block_10_project… │\n",
      "│ (Conv2D)            │ 576)              │            │                   │\n",
      "├─────────────────────┼───────────────────┼────────────┼───────────────────┤\n",
      "│ block_11_expand_BN  │ (None, 14, 14,    │      2,304 │ block_11_expand[… │\n",
      "│ (BatchNormalizatio… │ 576)              │            │                   │\n",
      "├─────────────────────┼───────────────────┼────────────┼───────────────────┤\n",
      "│ block_11_expand_re… │ (None, 14, 14,    │          0 │ block_11_expand_… │\n",
      "│ (ReLU)              │ 576)              │            │                   │\n",
      "├─────────────────────┼───────────────────┼────────────┼───────────────────┤\n",
      "│ block_11_depthwise  │ (None, 14, 14,    │      5,184 │ block_11_expand_… │\n",
      "│ (DepthwiseConv2D)   │ 576)              │            │                   │\n",
      "├─────────────────────┼───────────────────┼────────────┼───────────────────┤\n",
      "│ block_11_depthwise… │ (None, 14, 14,    │      2,304 │ block_11_depthwi… │\n",
      "│ (BatchNormalizatio… │ 576)              │            │                   │\n",
      "├─────────────────────┼───────────────────┼────────────┼───────────────────┤\n",
      "│ block_11_depthwise… │ (None, 14, 14,    │          0 │ block_11_depthwi… │\n",
      "│ (ReLU)              │ 576)              │            │                   │\n",
      "├─────────────────────┼───────────────────┼────────────┼───────────────────┤\n",
      "│ block_11_project    │ (None, 14, 14,    │     55,296 │ block_11_depthwi… │\n",
      "│ (Conv2D)            │ 96)               │            │                   │\n",
      "├─────────────────────┼───────────────────┼────────────┼───────────────────┤\n",
      "│ block_11_project_BN │ (None, 14, 14,    │        384 │ block_11_project… │\n",
      "│ (BatchNormalizatio… │ 96)               │            │                   │\n",
      "├─────────────────────┼───────────────────┼────────────┼───────────────────┤\n",
      "│ block_11_add (Add)  │ (None, 14, 14,    │          0 │ block_10_project… │\n",
      "│                     │ 96)               │            │ block_11_project… │\n",
      "├─────────────────────┼───────────────────┼────────────┼───────────────────┤\n",
      "│ block_12_expand     │ (None, 14, 14,    │     55,296 │ block_11_add[0][… │\n",
      "│ (Conv2D)            │ 576)              │            │                   │\n",
      "├─────────────────────┼───────────────────┼────────────┼───────────────────┤\n",
      "│ block_12_expand_BN  │ (None, 14, 14,    │      2,304 │ block_12_expand[… │\n",
      "│ (BatchNormalizatio… │ 576)              │            │                   │\n",
      "├─────────────────────┼───────────────────┼────────────┼───────────────────┤\n",
      "│ block_12_expand_re… │ (None, 14, 14,    │          0 │ block_12_expand_… │\n",
      "│ (ReLU)              │ 576)              │            │                   │\n",
      "├─────────────────────┼───────────────────┼────────────┼───────────────────┤\n",
      "│ block_12_depthwise  │ (None, 14, 14,    │      5,184 │ block_12_expand_… │\n",
      "│ (DepthwiseConv2D)   │ 576)              │            │                   │\n",
      "├─────────────────────┼───────────────────┼────────────┼───────────────────┤\n",
      "│ block_12_depthwise… │ (None, 14, 14,    │      2,304 │ block_12_depthwi… │\n",
      "│ (BatchNormalizatio… │ 576)              │            │                   │\n",
      "├─────────────────────┼───────────────────┼────────────┼───────────────────┤\n",
      "│ block_12_depthwise… │ (None, 14, 14,    │          0 │ block_12_depthwi… │\n",
      "│ (ReLU)              │ 576)              │            │                   │\n",
      "├─────────────────────┼───────────────────┼────────────┼───────────────────┤\n",
      "│ block_12_project    │ (None, 14, 14,    │     55,296 │ block_12_depthwi… │\n",
      "│ (Conv2D)            │ 96)               │            │                   │\n",
      "├─────────────────────┼───────────────────┼────────────┼───────────────────┤\n",
      "│ block_12_project_BN │ (None, 14, 14,    │        384 │ block_12_project… │\n",
      "│ (BatchNormalizatio… │ 96)               │            │                   │\n",
      "├─────────────────────┼───────────────────┼────────────┼───────────────────┤\n",
      "│ block_12_add (Add)  │ (None, 14, 14,    │          0 │ block_11_add[0][… │\n",
      "│                     │ 96)               │            │ block_12_project… │\n",
      "├─────────────────────┼───────────────────┼────────────┼───────────────────┤\n",
      "│ block_13_expand     │ (None, 14, 14,    │     55,296 │ block_12_add[0][… │\n",
      "│ (Conv2D)            │ 576)              │            │                   │\n",
      "├─────────────────────┼───────────────────┼────────────┼───────────────────┤\n",
      "│ block_13_expand_BN  │ (None, 14, 14,    │      2,304 │ block_13_expand[… │\n",
      "│ (BatchNormalizatio… │ 576)              │            │                   │\n",
      "├─────────────────────┼───────────────────┼────────────┼───────────────────┤\n",
      "│ block_13_expand_re… │ (None, 14, 14,    │          0 │ block_13_expand_… │\n",
      "│ (ReLU)              │ 576)              │            │                   │\n",
      "├─────────────────────┼───────────────────┼────────────┼───────────────────┤\n",
      "│ block_13_pad        │ (None, 15, 15,    │          0 │ block_13_expand_… │\n",
      "│ (ZeroPadding2D)     │ 576)              │            │                   │\n",
      "├─────────────────────┼───────────────────┼────────────┼───────────────────┤\n",
      "│ block_13_depthwise  │ (None, 7, 7, 576) │      5,184 │ block_13_pad[0][… │\n",
      "│ (DepthwiseConv2D)   │                   │            │                   │\n",
      "├─────────────────────┼───────────────────┼────────────┼───────────────────┤\n",
      "│ block_13_depthwise… │ (None, 7, 7, 576) │      2,304 │ block_13_depthwi… │\n",
      "│ (BatchNormalizatio… │                   │            │                   │\n",
      "├─────────────────────┼───────────────────┼────────────┼───────────────────┤\n",
      "│ block_13_depthwise… │ (None, 7, 7, 576) │          0 │ block_13_depthwi… │\n",
      "│ (ReLU)              │                   │            │                   │\n",
      "├─────────────────────┼───────────────────┼────────────┼───────────────────┤\n",
      "│ block_13_project    │ (None, 7, 7, 160) │     92,160 │ block_13_depthwi… │\n",
      "│ (Conv2D)            │                   │            │                   │\n",
      "├─────────────────────┼───────────────────┼────────────┼───────────────────┤\n",
      "│ block_13_project_BN │ (None, 7, 7, 160) │        640 │ block_13_project… │\n",
      "│ (BatchNormalizatio… │                   │            │                   │\n",
      "├─────────────────────┼───────────────────┼────────────┼───────────────────┤\n",
      "│ block_14_expand     │ (None, 7, 7, 960) │    153,600 │ block_13_project… │\n",
      "│ (Conv2D)            │                   │            │                   │\n",
      "├─────────────────────┼───────────────────┼────────────┼───────────────────┤\n",
      "│ block_14_expand_BN  │ (None, 7, 7, 960) │      3,840 │ block_14_expand[… │\n",
      "│ (BatchNormalizatio… │                   │            │                   │\n",
      "├─────────────────────┼───────────────────┼────────────┼───────────────────┤\n",
      "│ block_14_expand_re… │ (None, 7, 7, 960) │          0 │ block_14_expand_… │\n",
      "│ (ReLU)              │                   │            │                   │\n",
      "├─────────────────────┼───────────────────┼────────────┼───────────────────┤\n",
      "│ block_14_depthwise  │ (None, 7, 7, 960) │      8,640 │ block_14_expand_… │\n",
      "│ (DepthwiseConv2D)   │                   │            │                   │\n",
      "├─────────────────────┼───────────────────┼────────────┼───────────────────┤\n",
      "│ block_14_depthwise… │ (None, 7, 7, 960) │      3,840 │ block_14_depthwi… │\n",
      "│ (BatchNormalizatio… │                   │            │                   │\n",
      "├─────────────────────┼───────────────────┼────────────┼───────────────────┤\n",
      "│ block_14_depthwise… │ (None, 7, 7, 960) │          0 │ block_14_depthwi… │\n",
      "│ (ReLU)              │                   │            │                   │\n",
      "├─────────────────────┼───────────────────┼────────────┼───────────────────┤\n",
      "│ block_14_project    │ (None, 7, 7, 160) │    153,600 │ block_14_depthwi… │\n",
      "│ (Conv2D)            │                   │            │                   │\n",
      "├─────────────────────┼───────────────────┼────────────┼───────────────────┤\n",
      "│ block_14_project_BN │ (None, 7, 7, 160) │        640 │ block_14_project… │\n",
      "│ (BatchNormalizatio… │                   │            │                   │\n",
      "├─────────────────────┼───────────────────┼────────────┼───────────────────┤\n",
      "│ block_14_add (Add)  │ (None, 7, 7, 160) │          0 │ block_13_project… │\n",
      "│                     │                   │            │ block_14_project… │\n",
      "├─────────────────────┼───────────────────┼────────────┼───────────────────┤\n",
      "│ block_15_expand     │ (None, 7, 7, 960) │    153,600 │ block_14_add[0][… │\n",
      "│ (Conv2D)            │                   │            │                   │\n",
      "├─────────────────────┼───────────────────┼────────────┼───────────────────┤\n",
      "│ block_15_expand_BN  │ (None, 7, 7, 960) │      3,840 │ block_15_expand[… │\n",
      "│ (BatchNormalizatio… │                   │            │                   │\n",
      "├─────────────────────┼───────────────────┼────────────┼───────────────────┤\n",
      "│ block_15_expand_re… │ (None, 7, 7, 960) │          0 │ block_15_expand_… │\n",
      "│ (ReLU)              │                   │            │                   │\n",
      "├─────────────────────┼───────────────────┼────────────┼───────────────────┤\n",
      "│ block_15_depthwise  │ (None, 7, 7, 960) │      8,640 │ block_15_expand_… │\n",
      "│ (DepthwiseConv2D)   │                   │            │                   │\n",
      "├─────────────────────┼───────────────────┼────────────┼───────────────────┤\n",
      "│ block_15_depthwise… │ (None, 7, 7, 960) │      3,840 │ block_15_depthwi… │\n",
      "│ (BatchNormalizatio… │                   │            │                   │\n",
      "├─────────────────────┼───────────────────┼────────────┼───────────────────┤\n",
      "│ block_15_depthwise… │ (None, 7, 7, 960) │          0 │ block_15_depthwi… │\n",
      "│ (ReLU)              │                   │            │                   │\n",
      "├─────────────────────┼───────────────────┼────────────┼───────────────────┤\n",
      "│ block_15_project    │ (None, 7, 7, 160) │    153,600 │ block_15_depthwi… │\n",
      "│ (Conv2D)            │                   │            │                   │\n",
      "├─────────────────────┼───────────────────┼────────────┼───────────────────┤\n",
      "│ block_15_project_BN │ (None, 7, 7, 160) │        640 │ block_15_project… │\n",
      "│ (BatchNormalizatio… │                   │            │                   │\n",
      "├─────────────────────┼───────────────────┼────────────┼───────────────────┤\n",
      "│ block_15_add (Add)  │ (None, 7, 7, 160) │          0 │ block_14_add[0][… │\n",
      "│                     │                   │            │ block_15_project… │\n",
      "├─────────────────────┼───────────────────┼────────────┼───────────────────┤\n",
      "│ block_16_expand     │ (None, 7, 7, 960) │    153,600 │ block_15_add[0][… │\n",
      "│ (Conv2D)            │                   │            │                   │\n",
      "├─────────────────────┼───────────────────┼────────────┼───────────────────┤\n",
      "│ block_16_expand_BN  │ (None, 7, 7, 960) │      3,840 │ block_16_expand[… │\n",
      "│ (BatchNormalizatio… │                   │            │                   │\n",
      "├─────────────────────┼───────────────────┼────────────┼───────────────────┤\n",
      "│ block_16_expand_re… │ (None, 7, 7, 960) │          0 │ block_16_expand_… │\n",
      "│ (ReLU)              │                   │            │                   │\n",
      "├─────────────────────┼───────────────────┼────────────┼───────────────────┤\n",
      "│ block_16_depthwise  │ (None, 7, 7, 960) │      8,640 │ block_16_expand_… │\n",
      "│ (DepthwiseConv2D)   │                   │            │                   │\n",
      "├─────────────────────┼───────────────────┼────────────┼───────────────────┤\n",
      "│ block_16_depthwise… │ (None, 7, 7, 960) │      3,840 │ block_16_depthwi… │\n",
      "│ (BatchNormalizatio… │                   │            │                   │\n",
      "├─────────────────────┼───────────────────┼────────────┼───────────────────┤\n",
      "│ block_16_depthwise… │ (None, 7, 7, 960) │          0 │ block_16_depthwi… │\n",
      "│ (ReLU)              │                   │            │                   │\n",
      "├─────────────────────┼───────────────────┼────────────┼───────────────────┤\n",
      "│ block_16_project    │ (None, 7, 7, 320) │    307,200 │ block_16_depthwi… │\n",
      "│ (Conv2D)            │                   │            │                   │\n",
      "├─────────────────────┼───────────────────┼────────────┼───────────────────┤\n",
      "│ block_16_project_BN │ (None, 7, 7, 320) │      1,280 │ block_16_project… │\n",
      "│ (BatchNormalizatio… │                   │            │                   │\n",
      "├─────────────────────┼───────────────────┼────────────┼───────────────────┤\n",
      "│ Conv_1 (Conv2D)     │ (None, 7, 7,      │    409,600 │ block_16_project… │\n",
      "│                     │ 1280)             │            │                   │\n",
      "├─────────────────────┼───────────────────┼────────────┼───────────────────┤\n",
      "│ Conv_1_bn           │ (None, 7, 7,      │      5,120 │ Conv_1[0][0]      │\n",
      "│ (BatchNormalizatio… │ 1280)             │            │                   │\n",
      "├─────────────────────┼───────────────────┼────────────┼───────────────────┤\n",
      "│ out_relu (ReLU)     │ (None, 7, 7,      │          0 │ Conv_1_bn[0][0]   │\n",
      "│                     │ 1280)             │            │                   │\n",
      "├─────────────────────┼───────────────────┼────────────┼───────────────────┤\n",
      "│ global_average_poo… │ (None, 1280)      │          0 │ out_relu[0][0]    │\n",
      "│ (GlobalAveragePool… │                   │            │                   │\n",
      "└─────────────────────┴───────────────────┴────────────┴───────────────────┘\n",
      " Total params: 2,257,984 (8.61 MB)\n",
      " Trainable params: 2,223,872 (8.48 MB)\n",
      " Non-trainable params: 34,112 (133.25 KB)"
     ]
    }
   ],
   "source": [
    "new_model.summary()"
   ]
  },
  {
   "cell_type": "code",
   "execution_count": 13,
   "id": "be8fe2b9",
   "metadata": {},
   "outputs": [
    {
     "data": {
      "application/vnd.jupyter.widget-view+json": {
       "model_id": "",
       "version_major": 2,
       "version_minor": 0
      },
      "text/plain": [
       "FloatProgress(value=0.0, bar_style='info', description='Progress:', layout=Layout(height='25px', width='50%'),…"
      ]
     },
     "metadata": {},
     "output_type": "display_data"
    }
   ],
   "source": [
    "def model_fn():\n",
    "    \"\"\"\n",
    "    Returns a MobileNetV2 model with top layer removed \n",
    "    and broadcasted pretrained weights.\n",
    "    \"\"\"\n",
    "    model = MobileNetV2(weights='imagenet',\n",
    "                        include_top=True,\n",
    "                        input_shape=(224, 224, 3))\n",
    "    for layer in model.layers:\n",
    "        layer.trainable = False\n",
    "    new_model = Model(inputs=model.input,\n",
    "                  outputs=model.layers[-2].output)\n",
    "    new_model.set_weights(brodcast_weights.value)\n",
    "    return new_model"
   ]
  },
  {
   "cell_type": "markdown",
   "id": "c032f135",
   "metadata": {},
   "source": [
    "### Définition du processus de chargement des images <br/> et application de leur featurisation à travers l'utilisation de pandas UDF"
   ]
  },
  {
   "cell_type": "code",
   "execution_count": 14,
   "id": "933100cf",
   "metadata": {
    "scrolled": true
   },
   "outputs": [
    {
     "data": {
      "application/vnd.jupyter.widget-view+json": {
       "model_id": "",
       "version_major": 2,
       "version_minor": 0
      },
      "text/plain": [
       "FloatProgress(value=0.0, bar_style='info', description='Progress:', layout=Layout(height='25px', width='50%'),…"
      ]
     },
     "metadata": {},
     "output_type": "display_data"
    },
    {
     "name": "stdout",
     "output_type": "stream",
     "text": [
      "/mnt/yarn/usercache/livy/appcache/application_1712058004734_0001/container_1712058004734_0001_01_000001/pyspark.zip/pyspark/sql/pandas/functions.py:407: UserWarning: In Python 3.6+ and Spark 3.0+, it is preferred to specify type hints for pandas UDF instead of specifying pandas UDF type which will be deprecated in the future releases. See SPARK-28264 for more details."
     ]
    }
   ],
   "source": [
    "def preprocess(content):\n",
    "    \"\"\"\n",
    "    Preprocesses raw image bytes for prediction.\n",
    "    \"\"\"\n",
    "    img = Image.open(io.BytesIO(content)).resize([224, 224])\n",
    "    arr = img_to_array(img)\n",
    "    return preprocess_input(arr)\n",
    "\n",
    "def featurize_series(model, content_series):\n",
    "    \"\"\"\n",
    "    Featurize a pd.Series of raw images using the input model.\n",
    "    :return: a pd.Series of image features\n",
    "    \"\"\"\n",
    "    input = np.stack(content_series.map(preprocess))\n",
    "    preds = model.predict(input)\n",
    "    # For some layers, output features will be multi-dimensional tensors.\n",
    "    # We flatten the feature tensors to vectors for easier storage in Spark DataFrames.\n",
    "    output = [p.flatten() for p in preds]\n",
    "    return pd.Series(output)\n",
    "\n",
    "@pandas_udf('array<float>', PandasUDFType.SCALAR_ITER)\n",
    "def featurize_udf(content_series_iter):\n",
    "    '''\n",
    "    This method is a Scalar Iterator pandas UDF wrapping our featurization function.\n",
    "    The decorator specifies that this returns a Spark DataFrame column of type ArrayType(FloatType).\n",
    "\n",
    "    :param content_series_iter: This argument is an iterator over batches of data, where each batch\n",
    "                              is a pandas Series of image data.\n",
    "    '''\n",
    "    # With Scalar Iterator pandas UDFs, we can load the model once and then re-use it\n",
    "    # for multiple data batches.  This amortizes the overhead of loading big models.\n",
    "    model = model_fn()\n",
    "    for content_series in content_series_iter:\n",
    "        yield featurize_series(model, content_series)"
   ]
  },
  {
   "cell_type": "markdown",
   "id": "f23206e8",
   "metadata": {},
   "source": [
    "### Exécutions des actions d'extractions de features"
   ]
  },
  {
   "cell_type": "code",
   "execution_count": 14,
   "id": "22d760c2",
   "metadata": {},
   "outputs": [
    {
     "data": {
      "application/vnd.jupyter.widget-view+json": {
       "model_id": "",
       "version_major": 2,
       "version_minor": 0
      },
      "text/plain": [
       "FloatProgress(value=0.0, bar_style='info', description='Progress:', layout=Layout(height='25px', width='50%'),…"
      ]
     },
     "metadata": {},
     "output_type": "display_data"
    }
   ],
   "source": [
    "# spark.conf.set(\"spark.sql.execution.arrow.maxRecordsPerBatch\", \"1024\")"
   ]
  },
  {
   "cell_type": "code",
   "execution_count": 15,
   "id": "5e07fd68",
   "metadata": {},
   "outputs": [
    {
     "data": {
      "application/vnd.jupyter.widget-view+json": {
       "model_id": "",
       "version_major": 2,
       "version_minor": 0
      },
      "text/plain": [
       "FloatProgress(value=0.0, bar_style='info', description='Progress:', layout=Layout(height='25px', width='50%'),…"
      ]
     },
     "metadata": {},
     "output_type": "display_data"
    }
   ],
   "source": [
    "features_df = images.repartition(24).select(col(\"path\"),\n",
    "                                            col(\"label\"),\n",
    "                                            featurize_udf(\"content\").alias(\"features\")\n",
    "                                           )"
   ]
  },
  {
   "cell_type": "code",
   "execution_count": 16,
   "id": "06a930b3",
   "metadata": {},
   "outputs": [
    {
     "data": {
      "application/vnd.jupyter.widget-view+json": {
       "model_id": "",
       "version_major": 2,
       "version_minor": 0
      },
      "text/plain": [
       "FloatProgress(value=0.0, bar_style='info', description='Progress:', layout=Layout(height='25px', width='50%'),…"
      ]
     },
     "metadata": {},
     "output_type": "display_data"
    },
    {
     "name": "stdout",
     "output_type": "stream",
     "text": [
      "s3://ocangrand-p9-data/Results"
     ]
    }
   ],
   "source": [
    "print(PATH_Result)"
   ]
  },
  {
   "cell_type": "markdown",
   "id": "a1459505-cb81-420d-a50c-f1534ff37293",
   "metadata": {},
   "source": [
    "==============================="
   ]
  },
  {
   "cell_type": "markdown",
   "id": "187dd10c-0c78-4521-a309-5fe2ac59b28e",
   "metadata": {},
   "source": [
    "## Réduction de dimensions via PCA"
   ]
  },
  {
   "cell_type": "code",
   "execution_count": 17,
   "id": "d1836d0b-02b7-4f96-87fc-6755c7748f79",
   "metadata": {},
   "outputs": [
    {
     "data": {
      "application/vnd.jupyter.widget-view+json": {
       "model_id": "",
       "version_major": 2,
       "version_minor": 0
      },
      "text/plain": [
       "FloatProgress(value=0.0, bar_style='info', description='Progress:', layout=Layout(height='25px', width='50%'),…"
      ]
     },
     "metadata": {},
     "output_type": "display_data"
    }
   ],
   "source": [
    "from pyspark.ml.feature import PCA\n",
    "from pyspark.ml.functions import array_to_vector, vector_to_array\n",
    "from pyspark.sql.types import ArrayType, FloatType"
   ]
  },
  {
   "cell_type": "markdown",
   "id": "189b94f1-5975-48d4-8fd6-fe4e5b97d95c",
   "metadata": {},
   "source": [
    "Transformation de la colonne 'features' de array à vector pour être utilisable dans le pca.  \n",
    "On va utiliser plusieurs voir le dataframe features_df, donc je fais un persist pour gagner du temps sur les futurs appels."
   ]
  },
  {
   "cell_type": "code",
   "execution_count": 18,
   "id": "c2b62329-1025-4123-9b37-f26ec6c54b60",
   "metadata": {},
   "outputs": [
    {
     "data": {
      "application/vnd.jupyter.widget-view+json": {
       "model_id": "",
       "version_major": 2,
       "version_minor": 0
      },
      "text/plain": [
       "FloatProgress(value=0.0, bar_style='info', description='Progress:', layout=Layout(height='25px', width='50%'),…"
      ]
     },
     "metadata": {},
     "output_type": "display_data"
    },
    {
     "name": "stdout",
     "output_type": "stream",
     "text": [
      "DataFrame[path: string, label: string, features: vector]"
     ]
    }
   ],
   "source": [
    "features_df = features_df.withColumn('features', array_to_vector('features'))\n",
    "features_df.persist()"
   ]
  },
  {
   "cell_type": "code",
   "execution_count": 19,
   "id": "bd470a3e-842f-44cc-8f51-421683d867e7",
   "metadata": {},
   "outputs": [
    {
     "data": {
      "application/vnd.jupyter.widget-view+json": {
       "model_id": "",
       "version_major": 2,
       "version_minor": 0
      },
      "text/plain": [
       "FloatProgress(value=0.0, bar_style='info', description='Progress:', layout=Layout(height='25px', width='50%'),…"
      ]
     },
     "metadata": {},
     "output_type": "display_data"
    }
   ],
   "source": [
    "pca = PCA(k=1280, inputCol='features', outputCol='reduc_features')"
   ]
  },
  {
   "cell_type": "code",
   "execution_count": 20,
   "id": "299c92ab-5740-437f-be9b-70eda5cf1c0c",
   "metadata": {},
   "outputs": [
    {
     "data": {
      "application/vnd.jupyter.widget-view+json": {
       "model_id": "",
       "version_major": 2,
       "version_minor": 0
      },
      "text/plain": [
       "FloatProgress(value=0.0, bar_style='info', description='Progress:', layout=Layout(height='25px', width='50%'),…"
      ]
     },
     "metadata": {},
     "output_type": "display_data"
    }
   ],
   "source": [
    "df_pca = pca.fit(features_df)"
   ]
  },
  {
   "cell_type": "markdown",
   "id": "664b809c-5688-47e7-b35b-6b33053711f2",
   "metadata": {},
   "source": [
    "Je calcule la variance expliquée cumulée pour choisir mon k qui fera en sorte que mon PCA garde 99% des informations."
   ]
  },
  {
   "cell_type": "code",
   "execution_count": 21,
   "id": "923177a0-12d9-453b-a9bc-e06000263206",
   "metadata": {},
   "outputs": [
    {
     "data": {
      "application/vnd.jupyter.widget-view+json": {
       "model_id": "",
       "version_major": 2,
       "version_minor": 0
      },
      "text/plain": [
       "FloatProgress(value=0.0, bar_style='info', description='Progress:', layout=Layout(height='25px', width='50%'),…"
      ]
     },
     "metadata": {},
     "output_type": "display_data"
    }
   ],
   "source": [
    "cumValues = df_pca.explainedVariance.cumsum()"
   ]
  },
  {
   "cell_type": "code",
   "execution_count": 22,
   "id": "64232964-d1d3-47b3-bf47-3129ff74b41a",
   "metadata": {},
   "outputs": [
    {
     "data": {
      "application/vnd.jupyter.widget-view+json": {
       "model_id": "",
       "version_major": 2,
       "version_minor": 0
      },
      "text/plain": [
       "FloatProgress(value=0.0, bar_style='info', description='Progress:', layout=Layout(height='25px', width='50%'),…"
      ]
     },
     "metadata": {},
     "output_type": "display_data"
    },
    {
     "name": "stdout",
     "output_type": "stream",
     "text": [
      "772"
     ]
    }
   ],
   "source": [
    "for x in range(0,1280):\n",
    "    variance = cumValues[x]\n",
    "    if variance>0.99:\n",
    "        num_comp = x\n",
    "        break\n",
    "\n",
    "print(num_comp)"
   ]
  },
  {
   "cell_type": "code",
   "execution_count": 23,
   "id": "d39e38ed-c502-41d9-8f89-c3ece5d18e0c",
   "metadata": {},
   "outputs": [
    {
     "data": {
      "application/vnd.jupyter.widget-view+json": {
       "model_id": "",
       "version_major": 2,
       "version_minor": 0
      },
      "text/plain": [
       "FloatProgress(value=0.0, bar_style='info', description='Progress:', layout=Layout(height='25px', width='50%'),…"
      ]
     },
     "metadata": {},
     "output_type": "display_data"
    }
   ],
   "source": [
    "pca2 = PCA(k=num_comp, inputCol='features', outputCol='reduc_features')"
   ]
  },
  {
   "cell_type": "code",
   "execution_count": 24,
   "id": "8f533eb4-909c-4d43-984f-941c0b4bc2ad",
   "metadata": {},
   "outputs": [
    {
     "data": {
      "application/vnd.jupyter.widget-view+json": {
       "model_id": "",
       "version_major": 2,
       "version_minor": 0
      },
      "text/plain": [
       "FloatProgress(value=0.0, bar_style='info', description='Progress:', layout=Layout(height='25px', width='50%'),…"
      ]
     },
     "metadata": {},
     "output_type": "display_data"
    }
   ],
   "source": [
    "df_pca2 = pca2.fit(features_df)"
   ]
  },
  {
   "cell_type": "markdown",
   "id": "f95ecb34-e982-41d2-9083-92050441b6a5",
   "metadata": {},
   "source": [
    "J'applique la transformation, je reconvertis le type de mes features réduites de vector à array et je supprime les anciennes features désormais inutiles."
   ]
  },
  {
   "cell_type": "code",
   "execution_count": 25,
   "id": "cd460b20-9de4-40e0-baf2-2b2ffe124619",
   "metadata": {},
   "outputs": [
    {
     "data": {
      "application/vnd.jupyter.widget-view+json": {
       "model_id": "",
       "version_major": 2,
       "version_minor": 0
      },
      "text/plain": [
       "FloatProgress(value=0.0, bar_style='info', description='Progress:', layout=Layout(height='25px', width='50%'),…"
      ]
     },
     "metadata": {},
     "output_type": "display_data"
    }
   ],
   "source": [
    "features_df_reduc = df_pca2.transform(features_df)\n",
    "features_df_reduc = features_df_reduc.withColumn('reduc_features', vector_to_array('reduc_features', dtype='float32'))\n",
    "features_df_reduc = features_df_reduc.drop('features')"
   ]
  },
  {
   "cell_type": "markdown",
   "id": "b8571b7b-daac-4fb6-94cf-36e72d0bcaf6",
   "metadata": {},
   "source": [
    "==================================================================="
   ]
  },
  {
   "cell_type": "markdown",
   "id": "12830845-df5c-4301-ab56-f47e9a1b301b",
   "metadata": {},
   "source": [
    "On écrit le résultat dans un fichier au format parquet, donc segmenté en plusieurs partitions."
   ]
  },
  {
   "cell_type": "code",
   "execution_count": 26,
   "id": "f10349ab",
   "metadata": {},
   "outputs": [
    {
     "data": {
      "application/vnd.jupyter.widget-view+json": {
       "model_id": "",
       "version_major": 2,
       "version_minor": 0
      },
      "text/plain": [
       "FloatProgress(value=0.0, bar_style='info', description='Progress:', layout=Layout(height='25px', width='50%'),…"
      ]
     },
     "metadata": {},
     "output_type": "display_data"
    }
   ],
   "source": [
    "features_df_reduc.write.mode(\"overwrite\").parquet(PATH_Result)"
   ]
  },
  {
   "cell_type": "markdown",
   "id": "1fe01b72",
   "metadata": {},
   "source": [
    "### 4.10.6 Chargement des données enregistrées et validation du résultat"
   ]
  },
  {
   "cell_type": "code",
   "execution_count": 27,
   "id": "db18a784",
   "metadata": {},
   "outputs": [
    {
     "data": {
      "application/vnd.jupyter.widget-view+json": {
       "model_id": "",
       "version_major": 2,
       "version_minor": 0
      },
      "text/plain": [
       "FloatProgress(value=0.0, bar_style='info', description='Progress:', layout=Layout(height='25px', width='50%'),…"
      ]
     },
     "metadata": {},
     "output_type": "display_data"
    }
   ],
   "source": [
    "df = pd.read_parquet(PATH_Result, engine='pyarrow')"
   ]
  },
  {
   "cell_type": "code",
   "execution_count": 30,
   "id": "4fba6455",
   "metadata": {},
   "outputs": [
    {
     "data": {
      "application/vnd.jupyter.widget-view+json": {
       "model_id": "",
       "version_major": 2,
       "version_minor": 0
      },
      "text/plain": [
       "FloatProgress(value=0.0, bar_style='info', description='Progress:', layout=Layout(height='25px', width='50%'),…"
      ]
     },
     "metadata": {},
     "output_type": "display_data"
    },
    {
     "name": "stdout",
     "output_type": "stream",
     "text": [
      "(22688, 3)"
     ]
    }
   ],
   "source": [
    "df.shape"
   ]
  },
  {
   "cell_type": "code",
   "execution_count": 35,
   "id": "356ac16a",
   "metadata": {},
   "outputs": [
    {
     "data": {
      "application/vnd.jupyter.widget-view+json": {
       "model_id": "",
       "version_major": 2,
       "version_minor": 0
      },
      "text/plain": [
       "FloatProgress(value=0.0, bar_style='info', description='Progress:', layout=Layout(height='25px', width='50%'),…"
      ]
     },
     "metadata": {},
     "output_type": "display_data"
    },
    {
     "name": "stdout",
     "output_type": "stream",
     "text": [
      "Index(['path', 'label', 'reduc_features'], dtype='object')"
     ]
    }
   ],
   "source": [
    "df.columns"
   ]
  },
  {
   "cell_type": "code",
   "execution_count": 28,
   "id": "d750d2a8",
   "metadata": {},
   "outputs": [
    {
     "data": {
      "application/vnd.jupyter.widget-view+json": {
       "model_id": "",
       "version_major": 2,
       "version_minor": 0
      },
      "text/plain": [
       "FloatProgress(value=0.0, bar_style='info', description='Progress:', layout=Layout(height='25px', width='50%'),…"
      ]
     },
     "metadata": {},
     "output_type": "display_data"
    },
    {
     "name": "stdout",
     "output_type": "stream",
     "text": [
      "                                                path  ...                                     reduc_features\n",
      "0  s3://ocangrand-p9-data/Test/Watermelon/r_89_10...  ...  [-2.604326, 5.5291176, -5.521852, -3.459821, 8...\n",
      "1  s3://ocangrand-p9-data/Test/Watermelon/r_98_10...  ...  [-1.9239061, 4.3120093, -5.238205, -2.8958635,...\n",
      "2  s3://ocangrand-p9-data/Test/Watermelon/r_48_10...  ...  [-1.6070489, 5.0849524, -7.463815, -4.9713793,...\n",
      "3  s3://ocangrand-p9-data/Test/Pineapple Mini/53_...  ...  [-5.924988, 3.3677704, 1.8358918, -4.0382013, ...\n",
      "4  s3://ocangrand-p9-data/Test/Pineapple Mini/59_...  ...  [-5.8269, 3.7045207, 1.9708878, -4.48328, -2.3...\n",
      "\n",
      "[5 rows x 3 columns]"
     ]
    }
   ],
   "source": [
    "df.head()"
   ]
  },
  {
   "cell_type": "code",
   "execution_count": 29,
   "id": "b29205ff",
   "metadata": {},
   "outputs": [
    {
     "data": {
      "application/vnd.jupyter.widget-view+json": {
       "model_id": "",
       "version_major": 2,
       "version_minor": 0
      },
      "text/plain": [
       "FloatProgress(value=0.0, bar_style='info', description='Progress:', layout=Layout(height='25px', width='50%'),…"
      ]
     },
     "metadata": {},
     "output_type": "display_data"
    },
    {
     "name": "stdout",
     "output_type": "stream",
     "text": [
      "(772,)"
     ]
    }
   ],
   "source": [
    "df.loc[0,'reduc_features'].shape"
   ]
  }
 ],
 "metadata": {
  "kernelspec": {
   "display_name": "Python 3 (ipykernel)",
   "language": "python",
   "name": "python3"
  },
  "language_info": {
   "codemirror_mode": {
    "name": "ipython",
    "version": 3
   },
   "file_extension": ".py",
   "mimetype": "text/x-python",
   "name": "python",
   "nbconvert_exporter": "python",
   "pygments_lexer": "ipython3",
   "version": "3.9.18"
  },
  "toc": {
   "base_numbering": 1,
   "nav_menu": {},
   "number_sections": true,
   "sideBar": true,
   "skip_h1_title": false,
   "title_cell": "Table of Contents",
   "title_sidebar": "Contents",
   "toc_cell": false,
   "toc_position": {
    "height": "calc(100% - 180px)",
    "left": "10px",
    "top": "150px",
    "width": "432.4px"
   },
   "toc_section_display": true,
   "toc_window_display": true
  }
 },
 "nbformat": 4,
 "nbformat_minor": 5
}
